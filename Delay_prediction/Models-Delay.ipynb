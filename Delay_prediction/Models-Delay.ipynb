{
 "cells": [
  {
   "cell_type": "code",
   "id": "initial_id",
   "metadata": {
    "collapsed": true,
    "ExecuteTime": {
     "end_time": "2024-09-29T06:05:54.326389Z",
     "start_time": "2024-09-29T06:05:54.322521Z"
    }
   },
   "source": [
    "import numpy as np\n",
    "import pandas as pd\n",
    "import matplotlib.pyplot as plt\n",
    "import sklearn\n",
    "import seaborn as sns\n"
   ],
   "outputs": [],
   "execution_count": 3
  },
  {
   "metadata": {
    "ExecuteTime": {
     "end_time": "2024-09-29T06:06:05.280640Z",
     "start_time": "2024-09-29T06:05:54.384777Z"
    }
   },
   "cell_type": "code",
   "source": [
    "df = pd.read_csv('flights.csv')\n",
    "df.info()"
   ],
   "id": "7f734775a60ef411",
   "outputs": [
    {
     "name": "stderr",
     "output_type": "stream",
     "text": [
      "/tmp/ipykernel_51574/493874064.py:1: DtypeWarning: Columns (7,8) have mixed types. Specify dtype option on import or set low_memory=False.\n",
      "  df = pd.read_csv('flights.csv')\n"
     ]
    },
    {
     "name": "stdout",
     "output_type": "stream",
     "text": [
      "<class 'pandas.core.frame.DataFrame'>\n",
      "RangeIndex: 5819079 entries, 0 to 5819078\n",
      "Data columns (total 31 columns):\n",
      " #   Column               Dtype  \n",
      "---  ------               -----  \n",
      " 0   YEAR                 int64  \n",
      " 1   MONTH                int64  \n",
      " 2   DAY                  int64  \n",
      " 3   DAY_OF_WEEK          int64  \n",
      " 4   AIRLINE              object \n",
      " 5   FLIGHT_NUMBER        int64  \n",
      " 6   TAIL_NUMBER          object \n",
      " 7   ORIGIN_AIRPORT       object \n",
      " 8   DESTINATION_AIRPORT  object \n",
      " 9   SCHEDULED_DEPARTURE  int64  \n",
      " 10  DEPARTURE_TIME       float64\n",
      " 11  DEPARTURE_DELAY      float64\n",
      " 12  TAXI_OUT             float64\n",
      " 13  WHEELS_OFF           float64\n",
      " 14  SCHEDULED_TIME       float64\n",
      " 15  ELAPSED_TIME         float64\n",
      " 16  AIR_TIME             float64\n",
      " 17  DISTANCE             int64  \n",
      " 18  WHEELS_ON            float64\n",
      " 19  TAXI_IN              float64\n",
      " 20  SCHEDULED_ARRIVAL    int64  \n",
      " 21  ARRIVAL_TIME         float64\n",
      " 22  ARRIVAL_DELAY        float64\n",
      " 23  DIVERTED             int64  \n",
      " 24  CANCELLED            int64  \n",
      " 25  CANCELLATION_REASON  object \n",
      " 26  AIR_SYSTEM_DELAY     float64\n",
      " 27  SECURITY_DELAY       float64\n",
      " 28  AIRLINE_DELAY        float64\n",
      " 29  LATE_AIRCRAFT_DELAY  float64\n",
      " 30  WEATHER_DELAY        float64\n",
      "dtypes: float64(16), int64(10), object(5)\n",
      "memory usage: 1.3+ GB\n"
     ]
    }
   ],
   "execution_count": 4
  },
  {
   "metadata": {},
   "cell_type": "code",
   "outputs": [],
   "execution_count": null,
   "source": [
    "def prep_data(df):\n",
    "    delay = []\n",
    "    for row in df['ARRIVAL_DELAY']:\n",
    "        if row > 60:\n",
    "            delay.append(3)\n",
    "        elif row > 30:\n",
    "            delay.append(2)\n",
    "        elif row > 15:\n",
    "            delay.append(1)\n",
    "        else:\n",
    "            delay.append(0)\n",
    "    df['delay'] = delay\n",
    "    df=df.drop(['YEAR','FLIGHT_NUMBER','AIRLINE','DISTANCE','TAIL_NUMBER','TAXI_OUT','SCHEDULED_TIME','DEPARTURE_TIME','WHEELS_OFF','ELAPSED_TIME','AIR_TIME','WHEELS_ON','DAY_OF_WEEK','TAXI_IN','CANCELLATION_REASON','ORIGIN_AIRPORT', 'DESTINATION_AIRPORT', 'ARRIVAL_TIME', 'ARRIVAL_DELAY', \"CANCELLED\"], axis=1)\n",
    "    df.dropna(inplace = True)\n",
    "    \n",
    "    return df\n",
    "    "
   ],
   "id": "ac291412567b650e"
  },
  {
   "metadata": {
    "ExecuteTime": {
     "end_time": "2024-09-29T06:06:11.974850Z",
     "start_time": "2024-09-29T06:06:11.956951Z"
    }
   },
   "cell_type": "code",
   "source": "df.value_counts('delay')",
   "id": "4446b31299dccf4b",
   "outputs": [
    {
     "data": {
      "text/plain": [
       "delay\n",
       "1    390801\n",
       "3    319092\n",
       "2    313605\n",
       "0     39941\n",
       "Name: count, dtype: int64"
      ]
     },
     "execution_count": 11,
     "metadata": {},
     "output_type": "execute_result"
    }
   ],
   "execution_count": 11
  },
  {
   "metadata": {
    "ExecuteTime": {
     "end_time": "2024-09-29T06:10:24.580711Z",
     "start_time": "2024-09-29T06:10:19.493814Z"
    }
   },
   "cell_type": "code",
   "source": [
    "from sklearn.model_selection import train_test_split\n",
    "from sklearn.preprocessing import StandardScaler\n",
    "from sklearn.tree import DecisionTreeClassifier\n",
    "from sklearn.metrics import roc_auc_score\n",
    "data = df.values\n",
    "X, y = data[:,:-1], data[:,-1]\n",
    "X_train, X_test, y_train, y_test = train_test_split(X, y, test_size=0.30, random_state=42)\n",
    "scaled_features = StandardScaler().fit_transform(X_train, X_test)\n",
    "clf = DecisionTreeClassifier()\n",
    "clf = clf.fit(X_train,y_train)\n"
   ],
   "id": "ee9e71d2f011af47",
   "outputs": [],
   "execution_count": 17
  },
  {
   "metadata": {
    "ExecuteTime": {
     "end_time": "2024-09-29T06:10:24.797467Z",
     "start_time": "2024-09-29T06:10:24.597623Z"
    }
   },
   "cell_type": "code",
   "source": [
    "from sklearn import metrics\n",
    "import numpy as np\n",
    "\n",
    "# Predictions\n",
    "y_pred = clf.predict(X_test)\n",
    "\n",
    "# Mean Absolute Error (MAE)\n",
    "print('Mean Absolute Error (MAE):', round(metrics.mean_absolute_error(y_test, y_pred), 3))\n",
    "\n",
    "# Mean Squared Error (MSE)\n",
    "print('Mean Squared Error (MSE):', round(metrics.mean_squared_error(y_test, y_pred), 3))\n",
    "\n",
    "# Root Mean Squared Error (RMSE)\n",
    "print('Root Mean Squared Error (RMSE):', round(np.sqrt(metrics.mean_squared_error(y_test, y_pred)), 3))\n",
    "\n",
    "# R2 Score\n",
    "print('R2_score:', round(metrics.r2_score(y_test, y_pred), 6))\n",
    "\n",
    "# Root Mean Squared Log Error (RMSLE)\n",
    "print('Root Mean Squared Log Error (RMSLE):', round(np.sqrt(metrics.mean_squared_log_error(y_test, y_pred)), 3))\n",
    "\n",
    "\n",
    "pred_prob = clf.predict_proba(X_test)\n",
    "print('AUC Score:', round(roc_auc_score(y_test, pred_prob, multi_class='ovr'), 3))"
   ],
   "id": "d989c98402c566a3",
   "outputs": [
    {
     "name": "stdout",
     "output_type": "stream",
     "text": [
      "Mean Absolute Error (MAE): 0.004\n",
      "Mean Squared Error (MSE): 0.004\n",
      "Root Mean Squared Error (RMSE): 0.066\n",
      "R2_score: 0.994512\n",
      "Root Mean Squared Log Error (RMSLE): 0.027\n",
      "AUC Score: 0.997\n"
     ]
    }
   ],
   "execution_count": 18
  },
  {
   "metadata": {
    "ExecuteTime": {
     "end_time": "2024-09-29T06:06:17.581222Z",
     "start_time": "2024-09-29T06:06:17.578553Z"
    }
   },
   "cell_type": "code",
   "source": "",
   "id": "e89cc1e2cea74cbd",
   "outputs": [],
   "execution_count": null
  }
 ],
 "metadata": {
  "kernelspec": {
   "display_name": "Python 3",
   "language": "python",
   "name": "python3"
  },
  "language_info": {
   "codemirror_mode": {
    "name": "ipython",
    "version": 2
   },
   "file_extension": ".py",
   "mimetype": "text/x-python",
   "name": "python",
   "nbconvert_exporter": "python",
   "pygments_lexer": "ipython2",
   "version": "2.7.6"
  }
 },
 "nbformat": 4,
 "nbformat_minor": 5
}
